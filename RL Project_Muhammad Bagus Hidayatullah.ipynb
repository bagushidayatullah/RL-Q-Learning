{
 "cells": [
  {
   "cell_type": "markdown",
   "id": "89250bd3",
   "metadata": {},
   "source": [
    "### Nama : Muhammad Bagus Hidayatullah\n",
    "### NIM : 20/460185/TK/50774"
   ]
  },
  {
   "cell_type": "markdown",
   "id": "5b05b59f",
   "metadata": {},
   "source": [
    "Pada tugas Reinforcement Learning, saya menggunakan library OpenAI sebagai environment untuk implementasi Algoritma Q-Learning. Environment OpenAI yang saya gunakan adalah MountainCar version (1.0.0). Pada environment ini, obyektif kita adalah membawa mobil menuju puncak bukit yang memiliki bendera. State yang diobservasi pada environment ini adalah posisi mobil pada sumbu-x dan kecepatan dari mobil. Action ang bisa diberikan pada environment ini ada 3 yaitu akselerasi ke kiri, akselerasi ke kanan, dan diam tanpa akselerasi. "
   ]
  },
  {
   "attachments": {
    "gmbrrl.png": {
     "image/png": "[encoded data removed]"
    }
   },
   "cell_type": "markdown",
   "id": "801d4d7c",
   "metadata": {},
   "source": [
    "![gmbrrl.png](attachment:gmbrrl.png)"
   ]
  },
  {
   "cell_type": "markdown",
   "id": "d580762d",
   "metadata": {},
   "source": [
    "## Import Library"
   ]
  },
  {
   "cell_type": "code",
   "execution_count": 1,
   "id": "047353e0",
   "metadata": {},
   "outputs": [],
   "source": [
    "import gym\n",
    "import numpy as np "
   ]
  },
  {
   "cell_type": "markdown",
   "id": "1a10dad9",
   "metadata": {},
   "source": [
    "## Create Environment"
   ]
  },
  {
   "cell_type": "code",
   "execution_count": 2,
   "id": "37e06c45",
   "metadata": {},
   "outputs": [],
   "source": [
    "env = gym.make('MountainCar-v0', render_mode = \"human\")"
   ]
  },
  {
   "cell_type": "markdown",
   "id": "5c0eb8dc",
   "metadata": {},
   "source": [
    "## Declare Variable"
   ]
  },
  {
   "cell_type": "code",
   "execution_count": 9,
   "id": "ad7c715f",
   "metadata": {},
   "outputs": [
    {
     "data": {
      "text/plain": [
       "(20, 20, 3)"
      ]
     },
     "execution_count": 9,
     "metadata": {},
     "output_type": "execute_result"
    }
   ],
   "source": [
    "lr = 0.1 #learning rate\n",
    "episode = 10\n",
    "gamma = 0.95 #discounted factor\n",
    "\n",
    "# Epsilon, for determining exploration or exploitation action taken\n",
    "epsilon = 1\n",
    "start_epsilon = 1\n",
    "end_epsilon = episode//2\n",
    "decaying_epsilon = epsilon / (end_epsilon - start_epsilon)\n",
    "\n",
    "# Size of state and action space\n",
    "state_space = env.observation_space.shape[0]\n",
    "action_space = env.action_space.n\n",
    "\n",
    "bins = [\n",
    "        np.linspace(env.observation_space.low[0], env.observation_space.high[0], 20),\n",
    "        np.linspace(env.observation_space.low[1], env.observation_space.high[1], 20)\n",
    "]\n",
    "\n",
    "# Create Q-table\n",
    "qtable = np.random.uniform(2, 0, size=(20, 20, action_space))\n",
    "qtable.shape"
   ]
  },
  {
   "cell_type": "markdown",
   "id": "33703480",
   "metadata": {},
   "source": [
    "## Function to get the discrete state"
   ]
  },
  {
   "cell_type": "code",
   "execution_count": 10,
   "id": "8f5dcc87",
   "metadata": {},
   "outputs": [],
   "source": [
    "def discrete_state(state, bins, obs):\n",
    "    index = []\n",
    "    for i in range(obs):\n",
    "        index.append(np.digitize(state[i], bins[i])-1)\n",
    "    return tuple(index)"
   ]
  },
  {
   "cell_type": "markdown",
   "id": "0d372687",
   "metadata": {},
   "source": [
    "## Training Loop dengan Q-Learning"
   ]
  },
  {
   "cell_type": "code",
   "execution_count": null,
   "id": "77772505",
   "metadata": {},
   "outputs": [],
   "source": [
    "for run in range(episode):\n",
    "    dis_state = discrete_state(env.reset()[0], bins, state_space)\n",
    "    done = False\n",
    "    \n",
    "    while not done:\n",
    "        \n",
    "        env.render() # render the animation\n",
    "        \n",
    "        if np.random.random()>epsilon:\n",
    "            action = np.argmax(qtable[dis_state])\n",
    "        else:\n",
    "            action = env.action_space.sample()\n",
    "            \n",
    "        new_state, reward, done, info = env.step(action)[:4] # step action to get new states, reward, and the 'done' status\n",
    "        \n",
    "        new_dis_state = discrete_state(new_state, bins, state_space)\n",
    "        \n",
    "        # Updating Q-table\n",
    "        max_future_Q = np.max(qtable[new_dis_state[:1]])\n",
    "        cur_Q = qtable[dis_state[0] + (action,)]\n",
    "        new_Q = (1 - lr)*cur_Q + lr*(reward + gamma*max_future_Q)\n",
    "        cur_Q = new_Q\n",
    "        \n",
    "        dis_state = new_dis_state\n",
    "    \n",
    "    if end_epsilon >= run >= start_epsilon:\n",
    "        epsilon -= decaying_epsilon\n",
    "        \n",
    "    print(\"Finished Episode: \",(run+1))\n",
    "        \n",
    "\n",
    "env.close()"
   ]
  },
  {
   "cell_type": "code",
   "execution_count": null,
   "id": "a9ddfcc7",
   "metadata": {},
   "outputs": [],
   "source": []
  },
  {
   "cell_type": "code",
   "execution_count": null,
   "id": "f1f0d3d0",
   "metadata": {},
   "outputs": [],
   "source": []
  }
 ],
 "metadata": {
  "kernelspec": {
   "display_name": "Python [conda env:pkm_kc]",
   "language": "python",
   "name": "conda-env-pkm_kc-py"
  },
  "language_info": {
   "codemirror_mode": {
    "name": "ipython",
    "version": 3
   },
   "file_extension": ".py",
   "mimetype": "text/x-python",
   "name": "python",
   "nbconvert_exporter": "python",
   "pygments_lexer": "ipython3",
   "version": "3.10.4"
  },
  "varInspector": {
   "cols": {
    "lenName": 16,
    "lenType": 16,
    "lenVar": 40
   },
   "kernels_config": {
    "python": {
     "delete_cmd_postfix": "",
     "delete_cmd_prefix": "del ",
     "library": "var_list.py",
     "varRefreshCmd": "print(var_dic_list())"
    },
    "r": {
     "delete_cmd_postfix": ") ",
     "delete_cmd_prefix": "rm(",
     "library": "var_list.r",
     "varRefreshCmd": "cat(var_dic_list()) "
    }
   },
   "types_to_exclude": [
    "module",
    "function",
    "builtin_function_or_method",
    "instance",
    "_Feature"
   ],
   "window_display": false
  }
 },
 "nbformat": 4,
 "nbformat_minor": 5
}
